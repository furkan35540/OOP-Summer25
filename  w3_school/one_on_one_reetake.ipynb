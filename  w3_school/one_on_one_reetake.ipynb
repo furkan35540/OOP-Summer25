{
 "cells": [
  {
   "cell_type": "code",
   "execution_count": 1,
   "id": "82554d29",
   "metadata": {},
   "outputs": [
    {
     "name": "stdout",
     "output_type": "stream",
     "text": [
      "Furkan Pilge\n"
     ]
    }
   ],
   "source": [
    "print(\"Furkan Pilge\")"
   ]
  },
  {
   "cell_type": "code",
   "execution_count": 2,
   "id": "b6f9d731",
   "metadata": {},
   "outputs": [],
   "source": [
    "x = 6"
   ]
  },
  {
   "cell_type": "code",
   "execution_count": 3,
   "id": "ac2b9d9e",
   "metadata": {},
   "outputs": [
    {
     "name": "stdout",
     "output_type": "stream",
     "text": [
      "6\n"
     ]
    }
   ],
   "source": [
    "print(x)"
   ]
  },
  {
   "cell_type": "code",
   "execution_count": 4,
   "id": "478fd3f2",
   "metadata": {},
   "outputs": [
    {
     "name": "stdout",
     "output_type": "stream",
     "text": [
      "<class 'int'>\n"
     ]
    }
   ],
   "source": [
    "print(type(x))"
   ]
  },
  {
   "cell_type": "code",
   "execution_count": 5,
   "id": "1a2eef86",
   "metadata": {},
   "outputs": [
    {
     "name": "stdout",
     "output_type": "stream",
     "text": [
      "kedi\n"
     ]
    }
   ],
   "source": [
    "my_cat = 'kedi'\n",
    "print(my_cat)"
   ]
  },
  {
   "cell_type": "code",
   "execution_count": 6,
   "id": "c4a40767",
   "metadata": {},
   "outputs": [
    {
     "name": "stdout",
     "output_type": "stream",
     "text": [
      "<class 'str'>\n"
     ]
    }
   ],
   "source": [
    "print(type(my_cat))"
   ]
  },
  {
   "cell_type": "code",
   "execution_count": 8,
   "id": "c5afe1d2",
   "metadata": {},
   "outputs": [],
   "source": [
    "countries = ['Poland','Turkey','Uganda','Zimbaba']"
   ]
  },
  {
   "cell_type": "code",
   "execution_count": 9,
   "id": "703c80b3",
   "metadata": {},
   "outputs": [
    {
     "name": "stdout",
     "output_type": "stream",
     "text": [
      "Poland\n",
      "Turkey\n",
      "Uganda\n",
      "Zimbaba\n"
     ]
    }
   ],
   "source": [
    "for c in countries:\n",
    "    print(c)"
   ]
  },
  {
   "cell_type": "code",
   "execution_count": 13,
   "id": "8595c402",
   "metadata": {},
   "outputs": [
    {
     "name": "stdout",
     "output_type": "stream",
     "text": [
      "that is my poland\n"
     ]
    }
   ],
   "source": [
    "country = 'Poland'\n",
    "if country == 'Poland':\n",
    "    print('that is my poland')"
   ]
  },
  {
   "cell_type": "code",
   "execution_count": 14,
   "id": "cdedf24d",
   "metadata": {},
   "outputs": [],
   "source": [
    "student ={\n",
    "    'name': 'Furkan',\n",
    "    'index_number':'35540'\n",
    "}"
   ]
  },
  {
   "cell_type": "code",
   "execution_count": 15,
   "id": "f3c73da4",
   "metadata": {},
   "outputs": [
    {
     "name": "stdout",
     "output_type": "stream",
     "text": [
      "my name is Furkan\n"
     ]
    }
   ],
   "source": [
    "print('my name is',student['name'])"
   ]
  },
  {
   "cell_type": "code",
   "execution_count": 17,
   "id": "814b4dca",
   "metadata": {},
   "outputs": [
    {
     "name": "stdout",
     "output_type": "stream",
     "text": [
      "Poland\n",
      "that is my Poland\n",
      "Turkey\n",
      "Uganda\n",
      "Zimbaba\n"
     ]
    }
   ],
   "source": [
    "for c in countries:\n",
    "    print(c)\n",
    "    if c == 'Poland':\n",
    "        print('that is my Poland')"
   ]
  },
  {
   "cell_type": "code",
   "execution_count": 21,
   "id": "7a2b6573",
   "metadata": {},
   "outputs": [],
   "source": [
    "class Student:\n",
    "    def __init__(self,name,index_number):\n",
    "        self.name = name\n",
    "        self.index_number = index_number\n"
   ]
  },
  {
   "cell_type": "code",
   "execution_count": 22,
   "id": "e23ad8f1",
   "metadata": {},
   "outputs": [],
   "source": [
    "student1 =Student('Furkan','35540')\n",
    "student2 =Student('Furkan','35540')\n",
    "student3 =Student('Furkan','35540')"
   ]
  },
  {
   "cell_type": "code",
   "execution_count": 23,
   "id": "74b823ca",
   "metadata": {},
   "outputs": [
    {
     "name": "stdout",
     "output_type": "stream",
     "text": [
      "Furkan 35540\n",
      "Furkan 35540\n",
      "Furkan 35540\n"
     ]
    }
   ],
   "source": [
    "print(student1.name,student1.index_number)\n",
    "print(student2.name,student2.index_number)\n",
    "print(student3.name,student3.index_number)"
   ]
  },
  {
   "cell_type": "code",
   "execution_count": null,
   "id": "c6de3990",
   "metadata": {},
   "outputs": [],
   "source": []
  }
 ],
 "metadata": {
  "kernelspec": {
   "display_name": "Python 3",
   "language": "python",
   "name": "python3"
  },
  "language_info": {
   "codemirror_mode": {
    "name": "ipython",
    "version": 3
   },
   "file_extension": ".py",
   "mimetype": "text/x-python",
   "name": "python",
   "nbconvert_exporter": "python",
   "pygments_lexer": "ipython3",
   "version": "3.12.1"
  }
 },
 "nbformat": 4,
 "nbformat_minor": 5
}
