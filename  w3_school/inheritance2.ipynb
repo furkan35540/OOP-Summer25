{
 "cells": [
  {
   "cell_type": "code",
   "execution_count": 2,
   "id": "f0dcb132",
   "metadata": {},
   "outputs": [],
   "source": [
    "# A parent class\n",
    "class Person:\n",
    "    def __init__(self, first_name, last_name):\n",
    "        self.first_name = first_name\n",
    "        self.last_name = last_name"
   ]
  },
  {
   "cell_type": "code",
   "execution_count": null,
   "id": "9b25b937",
   "metadata": {},
   "outputs": [
    {
     "name": "stdout",
     "output_type": "stream",
     "text": [
      "name: Furkan Pilge, index: 35540\n"
     ]
    }
   ],
   "source": [
    "# Student class without inheritance\n",
    "class Student:\n",
    "    def __init__(self, first_name, last_name, index_number):\n",
    "        self.first_name = first_name\n",
    "        self.last_name = last_name\n",
    "        self.index_number = index_number\n",
    "\n",
    "    def display_info(self):\n",
    "        print(f\"name: {self.first_name} {self.last_name}, index: {self.index_number}\")\n",
    "\n",
    "student1 =  Student('Furkan','Pilge','35540')\n",
    "\n",
    "student1.display_info()"
   ]
  },
  {
   "cell_type": "code",
   "execution_count": null,
   "id": "061165ac",
   "metadata": {},
   "outputs": [
    {
     "name": "stdout",
     "output_type": "stream",
     "text": [
      "name: Furkan Pilge, index: 35540\n"
     ]
    }
   ],
   "source": [
    "#Student class with inheritance (as child class)\n",
    "class Student(Person):\n",
    "    def __init__(self, first_name, last_name, index_number):\n",
    "        super().__init__(first_name, last_name)\n",
    "        self.index_number = index_number\n",
    "\n",
    "    def display_info(self):\n",
    "        print(f\"name: {self.first_name} {self.last_name}, index: {self.index_number}\")\n",
    "\n",
    "student1 =  Student('Furkan','Pilge','35540')\n",
    "student1.display_info()"
   ]
  },
  {
   "cell_type": "code",
   "execution_count": null,
   "id": "b1318683",
   "metadata": {},
   "outputs": [],
   "source": []
  }
 ],
 "metadata": {
  "kernelspec": {
   "display_name": "Python 3",
   "language": "python",
   "name": "python3"
  },
  "language_info": {
   "codemirror_mode": {
    "name": "ipython",
    "version": 3
   },
   "file_extension": ".py",
   "mimetype": "text/x-python",
   "name": "python",
   "nbconvert_exporter": "python",
   "pygments_lexer": "ipython3",
   "version": "3.12.1"
  }
 },
 "nbformat": 4,
 "nbformat_minor": 5
}
