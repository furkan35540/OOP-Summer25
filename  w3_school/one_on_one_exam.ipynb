{
 "cells": [
  {
   "cell_type": "code",
   "execution_count": null,
   "id": "9ab520d4",
   "metadata": {
    "vscode": {
     "languageId": "plaintext"
    }
   },
   "outputs": [],
   "source": [
    "print(\"Furkan Pilge\")\n",
    "x = 6\n",
    "print(x)\n",
    "print(type(x))\n",
    "my_cat ="
   ]
  },
  {
   "cell_type": "code",
   "execution_count": null,
   "id": "f5899051",
   "metadata": {
    "vscode": {
     "languageId": "plaintext"
    }
   },
   "outputs": [],
   "source": []
  }
 ],
 "metadata": {
  "language_info": {
   "name": "python"
  }
 },
 "nbformat": 4,
 "nbformat_minor": 5
}
