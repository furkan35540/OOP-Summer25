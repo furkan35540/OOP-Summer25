{
 "cells": [
  {
   "cell_type": "code",
   "execution_count": 1,
   "id": "da887f41",
   "metadata": {},
   "outputs": [],
   "source": [
    "class Animal:\n",
    "    def give_sound(self,sound):\n",
    "        print(sound)"
   ]
  },
  {
   "cell_type": "code",
   "execution_count": null,
   "id": "f4dbe2a2",
   "metadata": {},
   "outputs": [
    {
     "name": "stdout",
     "output_type": "stream",
     "text": [
      "Miyav\n"
     ]
    }
   ],
   "source": [
    "my_animal = Animal()\n",
    "my_animal.give_sound('Meow')"
   ]
  },
  {
   "cell_type": "code",
   "execution_count": 3,
   "id": "e645abe3",
   "metadata": {},
   "outputs": [],
   "source": [
    "class Cat(Animal):\n",
    "    def meow(self):\n",
    "        self.give_sound('meow')"
   ]
  },
  {
   "cell_type": "code",
   "execution_count": 4,
   "id": "e7c96b88",
   "metadata": {},
   "outputs": [
    {
     "name": "stdout",
     "output_type": "stream",
     "text": [
      "meow\n"
     ]
    }
   ],
   "source": [
    "my_cat = Cat()\n",
    "my_cat.meow()"
   ]
  },
  {
   "cell_type": "code",
   "execution_count": null,
   "id": "76eb04ee",
   "metadata": {},
   "outputs": [],
   "source": []
  }
 ],
 "metadata": {
  "kernelspec": {
   "display_name": "Python 3",
   "language": "python",
   "name": "python3"
  },
  "language_info": {
   "codemirror_mode": {
    "name": "ipython",
    "version": 3
   },
   "file_extension": ".py",
   "mimetype": "text/x-python",
   "name": "python",
   "nbconvert_exporter": "python",
   "pygments_lexer": "ipython3",
   "version": "3.12.1"
  }
 },
 "nbformat": 4,
 "nbformat_minor": 5
}
