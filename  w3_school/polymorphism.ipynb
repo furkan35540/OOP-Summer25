{
 "cells": [
  {
   "cell_type": "code",
   "execution_count": null,
   "id": "ea467096",
   "metadata": {},
   "outputs": [],
   "source": [
    "#Base class\n",
    "class Animal:\n",
    "    def speak(self):\n",
    "        return \"Some sound\"\n",
    "\n",
    "#Subclass 1\n",
    "class Dog(Animal):\n",
    "    def speak(self):\n",
    "        return \"Woof!\"\n",
    "\n",
    "#Subclass 2\n",
    "class Cat(Animal):\n",
    "    def speak(self):\n",
    "        return \"Meow!\"\n",
    "\n",
    "#Function that demonstrates polymorphism\n",
    "def animal_sound(animal):\n",
    "    print(animal.speak())\n",
    "\n",
    "#Instances\n",
    "dog = Dog()\n",
    "cat = Cat()\n",
    "\n",
    "#Demonstrate polymorphic behavior\n",
    "animal_sound(dog)  # Output: Woof!\n",
    "animal_sound(cat)  # Output: Meow!"
   ]
  }
 ],
 "metadata": {
  "language_info": {
   "name": "python"
  }
 },
 "nbformat": 4,
 "nbformat_minor": 5
}
